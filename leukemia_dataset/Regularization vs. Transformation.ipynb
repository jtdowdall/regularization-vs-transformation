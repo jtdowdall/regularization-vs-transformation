{
 "cells": [
  {
   "cell_type": "markdown",
   "metadata": {},
   "source": [
    "# Regularization vs. Transformation"
   ]
  },
  {
   "cell_type": "code",
   "execution_count": 73,
   "metadata": {},
   "outputs": [],
   "source": [
    "import warnings\n",
    "import scipy, pandas as pd\n",
    "import numpy as np\n",
    "from pandas import DataFrame as df\n",
    "import sklearn\n",
    "import re\n",
    "import matplotlib.pyplot as plt\n",
    "from pandas.tools.plotting import table\n",
    "%matplotlib inline\n",
    "warnings.filterwarnings('ignore')"
   ]
  },
  {
   "cell_type": "markdown",
   "metadata": {},
   "source": [
    "# Datasets"
   ]
  },
  {
   "cell_type": "code",
   "execution_count": 74,
   "metadata": {},
   "outputs": [],
   "source": [
    "datasets = {}"
   ]
  },
  {
   "cell_type": "markdown",
   "metadata": {},
   "source": [
    "## Leukemia"
   ]
  },
  {
   "cell_type": "code",
   "execution_count": 75,
   "metadata": {},
   "outputs": [],
   "source": [
    "def load_data(X_filename, y_filename):\n",
    "    df_X = pd.read_csv(X_filename, sep=\"\\t\")\n",
    "    df_X = df_X.select(lambda x: not re.search('call\\.*', x), axis=1)\n",
    "    df_X = df_X.drop(['Gene Description', \n",
    "                      'Gene Accession Number'], axis=1)\n",
    "    df_X = df_X.T\n",
    "    X = df_X.values\n",
    "\n",
    "    with open(y_filename, \"r\") as fin:\n",
    "        data = fin.read().splitlines(True)\n",
    "    data = data[1].rstrip()\n",
    "\n",
    "    y = np.fromstring(data, sep=\" \")\n",
    "\n",
    "    return X, y\n",
    "clean_lines = []\n",
    "with open(\"data_set_ALL_AML_train.txt\", \"r\") as f:\n",
    "    lines = f.readlines()\n",
    "    clean_lines = [l.rstrip('\\t\\n') for l in lines]\n",
    "\n",
    "with open(\"data_set_ALL_AML_train_cleaned.txt\", \"w\") as f:\n",
    "    f.writelines('\\n'.join(clean_lines))\n",
    "X_train, y_train = load_data(\"data_set_ALL_AML_train_cleaned.txt\",\n",
    "                             \"ALL_vs_AML_train_set_38_sorted.cls\")\n",
    "X_test, y_test = load_data(\"data_set_ALL_AML_independent.txt\",\n",
    "                           \"Leuk_ALL_AML.test.cls\")\n",
    "y_test = y_test[1:]  # dataset has one additional 0 at beginning, remove\n",
    "datasets['leukemia'] = [X_train,X_test,y_train,y_test]"
   ]
  },
  {
   "cell_type": "markdown",
   "metadata": {},
   "source": [
    "## MNIST"
   ]
  },
  {
   "cell_type": "code",
   "execution_count": 76,
   "metadata": {},
   "outputs": [
    {
     "name": "stdout",
     "output_type": "stream",
     "text": [
      "MNIST Loaded\n",
      "Train: 8236 samples\n",
      "Test: 5492 samples\n"
     ]
    }
   ],
   "source": [
    "# MNIST dataset\n",
    "from sklearn.datasets import fetch_mldata\n",
    "from sklearn.model_selection import train_test_split\n",
    "mnist = fetch_mldata('MNIST original')\n",
    "X = df(pd.SparseDataFrame(mnist.data))\n",
    "y = df(mnist.target)\n",
    "X['label'] = y\n",
    "X.head()\n",
    "# Extract only 0 and 8 digits\n",
    "X = X[(X['label']==0) | (X['label']==8)]\n",
    "datasets['mnist'] = train_test_split(X.drop('label',1),X['label'], test_size=0.4, random_state=42)\n",
    "print(\"MNIST Loaded\")\n",
    "print(\"Train: {} samples\".format(datasets['mnist'][0].shape[0]))\n",
    "print(\"Test: {} samples\".format(datasets['mnist'][1].shape[0]))"
   ]
  },
  {
   "cell_type": "markdown",
   "metadata": {},
   "source": [
    "## Breast Cancer"
   ]
  },
  {
   "cell_type": "code",
   "execution_count": 77,
   "metadata": {},
   "outputs": [
    {
     "name": "stdout",
     "output_type": "stream",
     "text": [
      "Breast Cancer Loaded\n",
      "Train: 341 samples\n",
      "Test: 228 samples\n"
     ]
    }
   ],
   "source": [
    "# Breast Cancer dataset\n",
    "from sklearn.datasets import load_breast_cancer\n",
    "datasets['breast cancer'] = train_test_split(*load_breast_cancer(True), test_size=0.4, random_state=42)\n",
    "print(\"Breast Cancer Loaded\")\n",
    "print(\"Train: {} samples\".format(datasets['breast cancer'][0].shape[0]))\n",
    "print(\"Test: {} samples\".format(datasets['breast cancer'][1].shape[0]))"
   ]
  },
  {
   "cell_type": "markdown",
   "metadata": {},
   "source": [
    "## Wilt"
   ]
  },
  {
   "cell_type": "code",
   "execution_count": 78,
   "metadata": {},
   "outputs": [
    {
     "name": "stdout",
     "output_type": "stream",
     "text": [
      "Wilt Loaded\n",
      "Train: 4339 samples\n",
      "Test: 500 samples\n"
     ]
    }
   ],
   "source": [
    "# Wilt dataset\n",
    "from wilt_dataset import WiltDataSet\n",
    "wds_train = WiltDataSet()\n",
    "wds_test = WiltDataSet()\n",
    "wds_train.read_in_dataset(\"../WiltDataSet/training.txt\")\n",
    "wds_test.read_in_dataset(\"../WiltDataSet/testing.txt\")\n",
    "tr_data, tr_labels = wds_train.convert_data_to_numpy_array()\n",
    "te_data, te_labels = wds_test.convert_data_to_numpy_array()\n",
    "datasets[\"wilt\"] = [tr_data, te_data, tr_labels.ravel(), te_labels.ravel()]\n",
    "print(\"Wilt Loaded\")\n",
    "print(\"Train: {} samples\".format(datasets['wilt'][0].shape[0]))\n",
    "print(\"Test: {} samples\".format(datasets['wilt'][1].shape[0]))"
   ]
  },
  {
   "cell_type": "markdown",
   "metadata": {},
   "source": [
    "## Letters"
   ]
  },
  {
   "cell_type": "code",
   "execution_count": 79,
   "metadata": {},
   "outputs": [
    {
     "name": "stdout",
     "output_type": "stream",
     "text": [
      "Letters Loaded\n",
      "Train: 925 samples\n",
      "Test: 618 samples\n"
     ]
    }
   ],
   "source": [
    "# Letters dataset\n",
    "from letters import LetterRecognitionDataSet\n",
    "letter = LetterRecognitionDataSet()\n",
    "letter.read_in_dataset(\"letter-recognition.data\")\n",
    "letter_data, letter_labels = letter.convert_data_to_numpy_array()\n",
    "datasets[\"letters\"] = train_test_split(letter_data, letter_labels.ravel(), test_size=0.4, random_state=42)\n",
    "print(\"Letters Loaded\")\n",
    "print(\"Train: {} samples\".format(datasets['letters'][0].shape[0]))\n",
    "print(\"Test: {} samples\".format(datasets['letters'][1].shape[0]))"
   ]
  },
  {
   "cell_type": "markdown",
   "metadata": {},
   "source": [
    "## Dataset Summary"
   ]
  },
  {
   "cell_type": "code",
   "execution_count": 13,
   "metadata": {
    "scrolled": true
   },
   "outputs": [
    {
     "data": {
      "text/html": [
       "<div>\n",
       "<style scoped>\n",
       "    .dataframe tbody tr th:only-of-type {\n",
       "        vertical-align: middle;\n",
       "    }\n",
       "\n",
       "    .dataframe tbody tr th {\n",
       "        vertical-align: top;\n",
       "    }\n",
       "\n",
       "    .dataframe thead th {\n",
       "        text-align: right;\n",
       "    }\n",
       "</style>\n",
       "<table border=\"1\" class=\"dataframe\">\n",
       "  <thead>\n",
       "    <tr style=\"text-align: right;\">\n",
       "      <th></th>\n",
       "      <th>Dataset</th>\n",
       "      <th># of Features</th>\n",
       "      <th>Train [classA, classB]</th>\n",
       "      <th>Test [classA, classB]</th>\n",
       "    </tr>\n",
       "  </thead>\n",
       "  <tbody>\n",
       "    <tr>\n",
       "      <th>0</th>\n",
       "      <td>Mnist</td>\n",
       "      <td>784</td>\n",
       "      <td>[4132, 4104]</td>\n",
       "      <td>[2771, 2721]</td>\n",
       "    </tr>\n",
       "    <tr>\n",
       "      <th>1</th>\n",
       "      <td>Letters</td>\n",
       "      <td>16</td>\n",
       "      <td>[455, 470]</td>\n",
       "      <td>[313, 305]</td>\n",
       "    </tr>\n",
       "    <tr>\n",
       "      <th>2</th>\n",
       "      <td>Breast cancer</td>\n",
       "      <td>30</td>\n",
       "      <td>[132, 209]</td>\n",
       "      <td>[80, 148]</td>\n",
       "    </tr>\n",
       "    <tr>\n",
       "      <th>3</th>\n",
       "      <td>Leukemia</td>\n",
       "      <td>7129</td>\n",
       "      <td>[27, 11]</td>\n",
       "      <td>[20, 14]</td>\n",
       "    </tr>\n",
       "    <tr>\n",
       "      <th>4</th>\n",
       "      <td>Wilt</td>\n",
       "      <td>5</td>\n",
       "      <td>[74, 4265]</td>\n",
       "      <td>[187, 313]</td>\n",
       "    </tr>\n",
       "  </tbody>\n",
       "</table>\n",
       "</div>"
      ],
      "text/plain": [
       "         Dataset # of Features Train [classA, classB] Test [classA, classB]\n",
       "0          Mnist           784           [4132, 4104]          [2771, 2721]\n",
       "1        Letters            16             [455, 470]            [313, 305]\n",
       "2  Breast cancer            30             [132, 209]             [80, 148]\n",
       "3       Leukemia          7129               [27, 11]              [20, 14]\n",
       "4           Wilt             5             [74, 4265]            [187, 313]"
      ]
     },
     "execution_count": 13,
     "metadata": {},
     "output_type": "execute_result"
    }
   ],
   "source": [
    "# Display dataset splits and sizes\n",
    "index = columns=['Dataset', '# of Features', 'Train [classA, classB]', 'Test [classA, classB]']\n",
    "data_stats = df(columns=index)\n",
    "for m in datasets:\n",
    "    features = datasets[m][0].shape[1]\n",
    "    train = np.unique(datasets[m][2], return_counts=True)[1]\n",
    "    test = np.unique(datasets[m][3], return_counts=True)[1]\n",
    "    data_stats = data_stats.append(pd.Series([\n",
    "        m.capitalize(),features, train,test],index=index),ignore_index=True)\n",
    "data_stats"
   ]
  },
  {
   "cell_type": "markdown",
   "metadata": {},
   "source": [
    "# Experiment"
   ]
  },
  {
   "cell_type": "markdown",
   "metadata": {},
   "source": [
    "## Logistic Regression"
   ]
  },
  {
   "cell_type": "code",
   "execution_count": 84,
   "metadata": {},
   "outputs": [],
   "source": [
    "import sklearn.linear_model\n",
    "import sklearn.kernel_ridge\n",
    "import sklearn.metrics.pairwise\n",
    "from sklearn.metrics import confusion_matrix\n",
    "from sklearn.metrics import zero_one_loss\n",
    "from scipy.spatial.distance import cdist\n",
    "import statistics\n",
    "\n",
    "def estimate_log_regression(X_train, X_test, y_train, y_test, \n",
    "                            kernelize=False, penalty='l2'):\n",
    "    \"\"\"Train logistic regression model, return test error and confusion matrix\"\"\"\n",
    "    if kernelize == True:   \n",
    "        print('Estimating logisitic regression with RBF kernel...')\n",
    "        # Calculate gamma as in Gretton et al.\n",
    "        b = cdist(X_train, X_train).ravel()\n",
    "        gamma = 1/(2 * pow(statistics.median(b), 2))\n",
    "        # Transform data via RBF kernel \n",
    "        K_train = sklearn.metrics.pairwise.rbf_kernel(X_train, X_train, gamma=gamma)\n",
    "        X_test = sklearn.metrics.pairwise.rbf_kernel(X_test, X_train, gamma=gamma)\n",
    "        X_train = K_train\n",
    "        c = 10000\n",
    "    else:\n",
    "        print('Estimating logisitic regression with {} regularization...'.format(penalty))\n",
    "        c = 1\n",
    "    # Fit logistic regression\n",
    "    clf = sklearn.linear_model.LogisticRegression(penalty=penalty, C=c)\n",
    "    clf.fit(X_train, y_train)\n",
    "    y_pred = clf.predict(X_test)\n",
    "    err = zero_one_loss(y_test, y_pred)\n",
    "    conf_mat = confusion_matrix(y_test, y_pred)\n",
    "    return {'error' : err, 'confusion' : conf_mat}"
   ]
  },
  {
   "cell_type": "markdown",
   "metadata": {},
   "source": [
    "\n",
    "## SVM\n",
    "\n"
   ]
  },
  {
   "cell_type": "code",
   "execution_count": 151,
   "metadata": {},
   "outputs": [],
   "source": [
    "from sklearn.svm import SVC\n",
    "from sklearn.model_selection import StratifiedKFold\n",
    "from sklearn.model_selection import GridSearchCV\n",
    "# This code is a modification of code at\n",
    "# http://ogrisel.github.io/scikit-learn.org/sklearn-tutorial/auto_examples/svm/plot_svm_parameters_selection.html\n",
    "def find_svm_best_params(X_train, y_train, kernel_type):\n",
    "    \"\"\"Find optimal C value for SVM using 2-fold cross validation\"\"\"\n",
    "    b = cdist(X_train, X_train).ravel()\n",
    "    # Calculate gamma as in Gretton et al.\n",
    "    gamma = 1/(2 * pow(statistics.median(b), 2))\n",
    "    C_range = 10. ** np.arange(-2, 4, 2)\n",
    "    param_grid = dict(C=C_range)\n",
    "    grid_search = GridSearchCV(SVC(kernel=kernel_type, gamma=gamma), param_grid, cv=5)\n",
    "    grid_search.fit(X_train, y_train)\n",
    "    best_params = grid_search.best_params_\n",
    "    return best_params\n",
    "def estimate_svm(X_train, X_test, y_train, y_test, kernel_type):\n",
    "    \"\"\"Train SVM model, returns test error rate and confusion matrix\"\"\"\n",
    "    print(\"Estimating SVM with {} kernel...\".format(kernel_type))\n",
    "    # Determine best C with cross-validation\n",
    "    best_params = find_svm_best_params(X_train, y_train, kernel_type)\n",
    "    c = best_params['C']\n",
    "    print(\"Best C value: {}\".format(c))\n",
    "    # Calculate gamma as in Gretton et al.\n",
    "    b = cdist(X_train, X_train).ravel()\n",
    "    gamma=1/(2 * pow(statistics.median(b), 2))\n",
    "    our_svm = SVC(kernel=kernel_type, C=c, gamma=gamma)\n",
    "    our_svm.fit(X_train, y_train)\n",
    "    y_pred = our_svm.predict(X_test)\n",
    "    err = zero_one_loss(y_test, y_pred)\n",
    "    conf_mat = confusion_matrix(y_test, y_pred)\n",
    "    return {'error' : err, 'confusion' : conf_mat}"
   ]
  },
  {
   "cell_type": "markdown",
   "metadata": {},
   "source": [
    "## Evaluation"
   ]
  },
  {
   "cell_type": "code",
   "execution_count": 115,
   "metadata": {},
   "outputs": [],
   "source": [
    "def evaluate_models(X_train, X_test, y_train, y_test):\n",
    "    \"\"\"Evaluates all experimental models for a given train/test set\"\"\"\n",
    "    return {\n",
    "        'Logistic Regression L1' : estimate_log_regression(X_train, X_test, y_train, y_test, \n",
    "                                                penalty='l1'),\n",
    "        'Logistic Regression L2' : estimate_log_regression(X_train, X_test, y_train, y_test),\n",
    "        'Logistic Regression RBF' : estimate_log_regression(X_train, X_test, y_train, y_test, \n",
    "                                               kernelize=True),\n",
    "        'SVM RBF' : estimate_svm(X_train, X_test, y_train, y_test, 'rbf'),\n",
    "        'SVM Linear' : estimate_svm(X_train, X_test, y_train, y_test, 'linear')}\n",
    "def display_results(results):\n",
    "    \"\"\"Displays all experimental results in a formatted table\"\"\"\n",
    "    series_index = ['Dataset', \n",
    "                    'Logistic Regression L1', \n",
    "                    'Logistic Regression L2', \n",
    "                    'Logistic Regression RBF',\n",
    "                    'SVM RBF',\n",
    "                    'SVM Linear']\n",
    "    results_df = df(columns=series_index)\n",
    "    for d in results:\n",
    "        for model in results[d]:\n",
    "            results[d][model] = results[d][model]['error']\n",
    "        results[d]['Dataset'] = d.upper()\n",
    "        results_df = results_df.append(results[d], ignore_index=True)\n",
    "    display(results_df)"
   ]
  },
  {
   "cell_type": "code",
   "execution_count": 152,
   "metadata": {},
   "outputs": [
    {
     "name": "stdout",
     "output_type": "stream",
     "text": [
      "WILT dataset:\n",
      "Estimating logisitic regression with l1 regularization...\n",
      "Estimating logisitic regression with l2 regularization...\n",
      "Estimating logisitic regression with RBF kernel...\n",
      "Estimating SVM with rbf kernel...\n",
      "Best C value: 100.0\n",
      "Estimating SVM with linear kernel...\n",
      "Best C value: 0.01\n",
      "MNIST dataset:\n",
      "Estimating logisitic regression with l1 regularization...\n",
      "Estimating logisitic regression with l2 regularization...\n",
      "Estimating logisitic regression with RBF kernel...\n",
      "Estimating SVM with rbf kernel...\n",
      "Best C value: 100.0\n",
      "Estimating SVM with linear kernel...\n",
      "Best C value: 0.01\n",
      "LEUKEMIA dataset:\n",
      "Estimating logisitic regression with l1 regularization...\n",
      "Estimating logisitic regression with l2 regularization...\n",
      "Estimating logisitic regression with RBF kernel...\n",
      "Estimating SVM with rbf kernel...\n",
      "Best C value: 100.0\n",
      "Estimating SVM with linear kernel...\n",
      "Best C value: 0.01\n",
      "LETTERS dataset:\n",
      "Estimating logisitic regression with l1 regularization...\n",
      "Estimating logisitic regression with l2 regularization...\n",
      "Estimating logisitic regression with RBF kernel...\n",
      "Estimating SVM with rbf kernel...\n",
      "Best C value: 100.0\n",
      "Estimating SVM with linear kernel...\n",
      "Best C value: 0.01\n",
      "BREAST CANCER dataset:\n",
      "Estimating logisitic regression with l1 regularization...\n",
      "Estimating logisitic regression with l2 regularization...\n",
      "Estimating logisitic regression with RBF kernel...\n",
      "Estimating SVM with rbf kernel...\n",
      "Best C value: 100.0\n",
      "Estimating SVM with linear kernel...\n",
      "Best C value: 100.0\n"
     ]
    }
   ],
   "source": [
    "results = {}\n",
    "for d in datasets:\n",
    "    print(\"{} dataset:\".format(d.upper()))\n",
    "    results[d] = evaluate_models(*datasets[d])"
   ]
  },
  {
   "cell_type": "code",
   "execution_count": 153,
   "metadata": {
    "scrolled": true
   },
   "outputs": [
    {
     "data": {
      "text/html": [
       "<div>\n",
       "<style scoped>\n",
       "    .dataframe tbody tr th:only-of-type {\n",
       "        vertical-align: middle;\n",
       "    }\n",
       "\n",
       "    .dataframe tbody tr th {\n",
       "        vertical-align: top;\n",
       "    }\n",
       "\n",
       "    .dataframe thead th {\n",
       "        text-align: right;\n",
       "    }\n",
       "</style>\n",
       "<table border=\"1\" class=\"dataframe\">\n",
       "  <thead>\n",
       "    <tr style=\"text-align: right;\">\n",
       "      <th></th>\n",
       "      <th>Dataset</th>\n",
       "      <th>Logistic Regression L1</th>\n",
       "      <th>Logistic Regression L2</th>\n",
       "      <th>Logistic Regression RBF</th>\n",
       "      <th>SVM RBF</th>\n",
       "      <th>SVM Linear</th>\n",
       "    </tr>\n",
       "  </thead>\n",
       "  <tbody>\n",
       "    <tr>\n",
       "      <th>0</th>\n",
       "      <td>BREAST CANCER</td>\n",
       "      <td>0.035088</td>\n",
       "      <td>0.035088</td>\n",
       "      <td>0.035088</td>\n",
       "      <td>0.026316</td>\n",
       "      <td>0.043860</td>\n",
       "    </tr>\n",
       "    <tr>\n",
       "      <th>1</th>\n",
       "      <td>MNIST</td>\n",
       "      <td>0.013292</td>\n",
       "      <td>0.012746</td>\n",
       "      <td>0.005645</td>\n",
       "      <td>0.003824</td>\n",
       "      <td>0.014385</td>\n",
       "    </tr>\n",
       "    <tr>\n",
       "      <th>2</th>\n",
       "      <td>LEUKEMIA</td>\n",
       "      <td>0.000000</td>\n",
       "      <td>0.029412</td>\n",
       "      <td>0.029412</td>\n",
       "      <td>0.029412</td>\n",
       "      <td>0.029412</td>\n",
       "    </tr>\n",
       "    <tr>\n",
       "      <th>3</th>\n",
       "      <td>LETTERS</td>\n",
       "      <td>0.014563</td>\n",
       "      <td>0.017799</td>\n",
       "      <td>0.011327</td>\n",
       "      <td>0.004854</td>\n",
       "      <td>0.024272</td>\n",
       "    </tr>\n",
       "    <tr>\n",
       "      <th>4</th>\n",
       "      <td>WILT</td>\n",
       "      <td>0.308000</td>\n",
       "      <td>0.350000</td>\n",
       "      <td>0.134000</td>\n",
       "      <td>0.144000</td>\n",
       "      <td>0.296000</td>\n",
       "    </tr>\n",
       "  </tbody>\n",
       "</table>\n",
       "</div>"
      ],
      "text/plain": [
       "         Dataset  Logistic Regression L1  Logistic Regression L2  \\\n",
       "0  BREAST CANCER                0.035088                0.035088   \n",
       "1          MNIST                0.013292                0.012746   \n",
       "2       LEUKEMIA                0.000000                0.029412   \n",
       "3        LETTERS                0.014563                0.017799   \n",
       "4           WILT                0.308000                0.350000   \n",
       "\n",
       "   Logistic Regression RBF   SVM RBF  SVM Linear  \n",
       "0                 0.035088  0.026316    0.043860  \n",
       "1                 0.005645  0.003824    0.014385  \n",
       "2                 0.029412  0.029412    0.029412  \n",
       "3                 0.011327  0.004854    0.024272  \n",
       "4                 0.134000  0.144000    0.296000  "
      ]
     },
     "metadata": {},
     "output_type": "display_data"
    }
   ],
   "source": [
    "display_results(results)"
   ]
  },
  {
   "cell_type": "markdown",
   "metadata": {},
   "source": [
    "\n",
    "# References (move to separate file later)\n",
    "\n"
   ]
  }
 ],
 "metadata": {
  "kernelspec": {
   "display_name": "Python 3",
   "language": "python",
   "name": "python3"
  },
  "language_info": {
   "codemirror_mode": {
    "name": "ipython",
    "version": 3
   },
   "file_extension": ".py",
   "mimetype": "text/x-python",
   "name": "python",
   "nbconvert_exporter": "python",
   "pygments_lexer": "ipython3",
   "version": "3.5.4"
  },
  "org": null
 },
 "nbformat": 4,
 "nbformat_minor": 1
}
