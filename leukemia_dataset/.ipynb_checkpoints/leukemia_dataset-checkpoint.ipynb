{
 "cells": [
  {
   "cell_type": "markdown",
   "metadata": {},
   "source": [
    "\n",
    "# Overview of dataset\n",
    "\n"
   ]
  },
  {
   "cell_type": "markdown",
   "metadata": {},
   "source": [
    "The data was obtained from [the Broad Institute](http://portals.broadinstitute.org/cgi-bin/cancer/publications/view/43) and is stored as follows:\n",
    "\n",
    "<table border=\"2\" cellspacing=\"0\" cellpadding=\"6\" rules=\"groups\" frame=\"hsides\">\n",
    "\n",
    "\n",
    "<colgroup>\n",
    "<col  class=\"org-left\" />\n",
    "\n",
    "<col  class=\"org-left\" />\n",
    "</colgroup>\n",
    "<thead>\n",
    "<tr>\n",
    "<th scope=\"col\" class=\"org-left\">Type of data</th>\n",
    "<th scope=\"col\" class=\"org-left\">File name</th>\n",
    "</tr>\n",
    "</thead>\n",
    "\n",
    "<tbody>\n",
    "<tr>\n",
    "<td class=\"org-left\">Training data</td>\n",
    "<td class=\"org-left\">`data_set_ALL_AML_train.txt`</td>\n",
    "</tr>\n",
    "\n",
    "\n",
    "<tr>\n",
    "<td class=\"org-left\">Training data class labels</td>\n",
    "<td class=\"org-left\">`ALL_vs_AML_train_set_38_sorted.cls`</td>\n",
    "</tr>\n",
    "\n",
    "\n",
    "<tr>\n",
    "<td class=\"org-left\">Testing data</td>\n",
    "<td class=\"org-left\">`data_set_ALL_AML_independent.txt`</td>\n",
    "</tr>\n",
    "\n",
    "\n",
    "<tr>\n",
    "<td class=\"org-left\">Testing data class labels</td>\n",
    "<td class=\"org-left\">`Leuk_ALL_AML.test.cls`</td>\n",
    "</tr>\n",
    "</tbody>\n",
    "</table>\n",
    "\n"
   ]
  },
  {
   "cell_type": "markdown",
   "metadata": {},
   "source": [
    "\n",
    "# Cleaning the data\n",
    "\n"
   ]
  },
  {
   "cell_type": "code",
   "execution_count": 3,
   "metadata": {},
   "outputs": [],
   "source": [
    "def clean_training_data():\n",
    "    clean_lines = []\n",
    "    with open(\"data_set_ALL_AML_train.txt\", \"r\") as f:\n",
    "        lines = f.readlines()\n",
    "        clean_lines = [l.rstrip('\\t\\n') for l in lines]\n",
    "\n",
    "    with open(\"data_set_ALL_AML_train_cleaned.txt\", \"w\") as f:\n",
    "        f.writelines('\\n'.join(clean_lines))\n",
    "\n",
    "\n",
    "clean_training_data()"
   ]
  },
  {
   "cell_type": "markdown",
   "metadata": {},
   "source": [
    "\n",
    "# Loading the data\n",
    "\n"
   ]
  },
  {
   "cell_type": "code",
   "execution_count": 4,
   "metadata": {},
   "outputs": [],
   "source": [
    "import numpy, scipy, pandas\n",
    "import sklearn\n",
    "import re\n",
    "\n",
    "def load_data(x_filename, y_filename):\n",
    "    df_x = pandas.read_csv(x_filename, sep=\"\\t\")\n",
    "    df_x = df_x.select(lambda x: not re.search('call\\.*', x), axis=1)\n",
    "    df_x = df_x.drop(['Gene Description', \n",
    "                      'Gene Accession Number'], axis=1)\n",
    "    df_x = df_x.T\n",
    "    x = df_x.values\n",
    "\n",
    "    with open(y_filename, \"r\") as fin:\n",
    "        data = fin.read().splitlines(True)\n",
    "    data = data[1].rstrip()\n",
    "\n",
    "    y = numpy.fromstring(data, sep=\" \")\n",
    "\n",
    "    return x, y\n",
    "\n",
    "\n",
    "x_train, y_train = load_data(\"data_set_ALL_AML_train_cleaned.txt\",\n",
    "                             \"ALL_vs_AML_train_set_38_sorted.cls\")\n",
    "x_test, y_test = load_data(\"data_set_ALL_AML_independent.txt\",\n",
    "                           \"Leuk_ALL_AML.test.cls\")\n",
    "y_test = y_test[1:]  # dataset has one additional 0 at beginning, \n",
    "                     # so remove it"
   ]
  },
  {
   "cell_type": "markdown",
   "metadata": {},
   "source": [
    "\n",
    "# Run models\n",
    "\n"
   ]
  },
  {
   "cell_type": "markdown",
   "metadata": {},
   "source": [
    "To choose the $\\gamma$ function of the RBF kernel (where $\\gamma = 1/(2\\sigma^2)$) we follow the heuristic choice mentioned in Gretton et al. (p. 748) of setting $\\sigma$ to equal the median distance between points of the training data.\n",
    "\n"
   ]
  },
  {
   "cell_type": "code",
   "execution_count": 5,
   "metadata": {},
   "outputs": [],
   "source": [
    "import sklearn.linear_model\n",
    "import sklearn.kernel_ridge\n",
    "import sklearn.metrics.pairwise\n",
    "from sklearn.metrics import confusion_matrix\n",
    "from scipy.spatial.distance import cdist\n",
    "import statistics\n",
    "\n",
    "import tabulate\n",
    "\n",
    "# Calculate gamma as in Gretton et al.\n",
    "b = cdist(x_train, x_train).ravel()\n",
    "gamma = 1/(2 * pow(statistics.median(b), 2))\n",
    "\n",
    "#y_test_onehot = numpy.zeros((len(y_test), 2))\n",
    "#y_test_onehot[numpy.arange(len(y_test)), y_test.astype(int)] = 1\n",
    "\n",
    "# Calculate RBF kernel \n",
    "K      = sklearn.metrics.pairwise.rbf_kernel(x_train, x_train, gamma=gamma)\n",
    "K_test = sklearn.metrics.pairwise.rbf_kernel(x_test, x_train, gamma=gamma)\n",
    "\n",
    "# Fit kernelized logistic regression\n",
    "# (note that l2 regularization is applied by default)\n",
    "clf = sklearn.linear_model.LogisticRegression(solver='lbfgs')\n",
    "clf.fit(K, y_train)\n",
    "kernelized_l2_preds = clf.predict(K_test)\n",
    "\n",
    "# Fit kernelized logistic regression with l1 regularization\n",
    "# (note that liblinear solver used by default)\n",
    "clf = sklearn.linear_model.LogisticRegression(penalty='l1')\n",
    "clf.fit(K, y_train)\n",
    "kernelized_l1_preds = clf.predict(K_test)\n",
    "\n",
    "# Fit non-kernelized logistic regression with l1 regularization\n",
    "clf = sklearn.linear_model.LogisticRegression(penalty='l1')\n",
    "clf.fit(x_train, y_train)\n",
    "l1_preds = clf.predict(x_test)"
   ]
  },
  {
   "cell_type": "markdown",
   "metadata": {},
   "source": [
    "\n",
    "## Evaluation of results\n",
    "\n"
   ]
  },
  {
   "cell_type": "code",
   "execution_count": 6,
   "metadata": {},
   "outputs": [],
   "source": [
    "from sklearn.metrics import zero_one_loss\n",
    "\n",
    "kernelized_l2_er = zero_one_loss(y_test, kernelized_l2_preds)\n",
    "kernelized_l1_er = zero_one_loss(y_test, kernelized_l1_preds)\n",
    "l1_er = zero_one_loss(y_test, l1_preds)\n",
    "\n",
    "kernelized_l2_cm = confusion_matrix(y_test, kernelized_l2_preds)\n",
    "kernelized_l1_cm = confusion_matrix(y_test, kernelized_l1_preds)\n",
    "l1_cm = confusion_matrix(y_test, l1_preds)"
   ]
  },
  {
   "cell_type": "code",
   "execution_count": 7,
   "metadata": {},
   "outputs": [
    {
     "data": {
      "text/html": [
       "<table>\n",
       "<tbody>\n",
       "<tr><td>Kernelized L2</td><td style=\"text-align: right;\">0.264706</td></tr>\n",
       "<tr><td>Kernelized L1</td><td style=\"text-align: right;\">0.411765</td></tr>\n",
       "<tr><td>L1           </td><td style=\"text-align: right;\">0       </td></tr>\n",
       "</tbody>\n",
       "</table>"
      ],
      "text/plain": [
       "<IPython.core.display.HTML object>"
      ]
     },
     "metadata": {},
     "output_type": "display_data"
    }
   ],
   "source": [
    "from IPython.display import HTML, display\n",
    "import tabulate\n",
    "\n",
    "table = [[\"Kernelized L2\", kernelized_l2_er],\n",
    "         [\"Kernelized L1\", kernelized_l1_er],\n",
    "         [\"L1\", l1_er]]\n",
    "\n",
    "display(HTML(tabulate.tabulate(table, tablefmt='html')))"
   ]
  },
  {
   "cell_type": "markdown",
   "metadata": {},
   "source": [
    "(TODO: add grid search for SVM parameters)\n",
    "\n"
   ]
  },
  {
   "cell_type": "markdown",
   "metadata": {},
   "source": [
    "\n",
    "## SVM parameters\n",
    "\n"
   ]
  },
  {
   "cell_type": "code",
   "execution_count": 8,
   "metadata": {},
   "outputs": [
    {
     "ename": "NameError",
     "evalue": "name 'np' is not defined",
     "output_type": "error",
     "traceback": [
      "\u001b[0;31m---------------------------------------------------------------------------\u001b[0m",
      "\u001b[0;31mNameError\u001b[0m                                 Traceback (most recent call last)",
      "\u001b[0;32m<ipython-input-8-6f2459c40bb9>\u001b[0m in \u001b[0;36m<module>\u001b[0;34m()\u001b[0m\n\u001b[0;32m----> 1\u001b[0;31m \u001b[0mC_range\u001b[0m \u001b[0;34m=\u001b[0m \u001b[0;36m2.\u001b[0m \u001b[0;34m**\u001b[0m \u001b[0mnp\u001b[0m\u001b[0;34m.\u001b[0m\u001b[0marange\u001b[0m\u001b[0;34m(\u001b[0m\u001b[0;34m-\u001b[0m\u001b[0;36m5\u001b[0m\u001b[0;34m,\u001b[0m \u001b[0;36m15\u001b[0m\u001b[0;34m,\u001b[0m \u001b[0;36m2\u001b[0m\u001b[0;34m)\u001b[0m\u001b[0;34m\u001b[0m\u001b[0m\n\u001b[0m\u001b[1;32m      2\u001b[0m \u001b[0mgamma_range\u001b[0m \u001b[0;34m=\u001b[0m \u001b[0;36m2.\u001b[0m \u001b[0;34m**\u001b[0m \u001b[0mnp\u001b[0m\u001b[0;34m.\u001b[0m\u001b[0marange\u001b[0m\u001b[0;34m(\u001b[0m\u001b[0;34m-\u001b[0m\u001b[0;36m5\u001b[0m\u001b[0;34m,\u001b[0m \u001b[0;36m3\u001b[0m\u001b[0;34m,\u001b[0m \u001b[0;36m2\u001b[0m\u001b[0;34m)\u001b[0m\u001b[0;34m\u001b[0m\u001b[0m\n\u001b[1;32m      3\u001b[0m \u001b[0;34m\u001b[0m\u001b[0m\n\u001b[1;32m      4\u001b[0m \u001b[0mparam_grid\u001b[0m \u001b[0;34m=\u001b[0m \u001b[0mdict\u001b[0m\u001b[0;34m(\u001b[0m\u001b[0mgamma\u001b[0m\u001b[0;34m=\u001b[0m\u001b[0mgamma_range\u001b[0m\u001b[0;34m,\u001b[0m \u001b[0mC\u001b[0m\u001b[0;34m=\u001b[0m\u001b[0mC_range\u001b[0m\u001b[0;34m)\u001b[0m\u001b[0;34m\u001b[0m\u001b[0m\n\u001b[1;32m      5\u001b[0m \u001b[0;34m\u001b[0m\u001b[0m\n",
      "\u001b[0;31mNameError\u001b[0m: name 'np' is not defined"
     ]
    }
   ],
   "source": [
    "C_range = 2. ** np.arange(-5, 15, 2)\n",
    "gamma_range = 2. ** np.arange(-5, 3, 2)\n",
    "\n",
    "param_grid = dict(gamma=gamma_range, C=C_range)\n",
    "\n",
    "grid = GridSearchCV(SVC(), \n",
    "                    param_grid=param_grid, \n",
    "                    cv=StratifiedKFold(y=y_train, k=5))"
   ]
  },
  {
   "cell_type": "markdown",
   "metadata": {},
   "source": [
    "\n",
    "# References (move to separate file later)\n",
    "\n"
   ]
  },
  {
   "cell_type": "markdown",
   "metadata": {},
   "source": [
    "Gretton, Arthur et al. 2012. \"A Kernel Two-Sample Test.\" *Journal of Machine Learning Research*. Vol 13, p. 723-773.\n",
    "\n",
    "Hsu, Chih-Wei et al. 2016. \"A Practical Guide to Support Vector Classification.\" Department of Computer Science, National Taiwan University.\n",
    "\n"
   ]
  }
 ],
 "metadata": {
  "kernelspec": {
   "display_name": "Python 3",
   "language": "python",
   "name": "python3"
  },
  "language_info": {
   "codemirror_mode": {
    "name": "ipython",
    "version": 3
   },
   "file_extension": ".py",
   "mimetype": "text/x-python",
   "name": "python",
   "nbconvert_exporter": "python",
   "pygments_lexer": "ipython3",
   "version": "3.5.3"
  },
  "org": null
 },
 "nbformat": 4,
 "nbformat_minor": 1
}
