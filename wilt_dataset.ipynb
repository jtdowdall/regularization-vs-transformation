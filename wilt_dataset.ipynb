{
 "cells": [
  {
   "cell_type": "code",
   "execution_count": 1,
   "metadata": {
    "collapsed": true
   },
   "outputs": [],
   "source": [
    "import numpy as np\n",
    "\n",
    "\n",
    "class WiltData:\n",
    "\n",
    "    def __init__(self, gp, mg, mr, mnir, sdp, c):\n",
    "        self.glcm_pan = float(gp)\n",
    "        self.mean_green = float(mg)\n",
    "        self.mean_red = float(mr)\n",
    "        self.mean_nir = float(mnir)\n",
    "        self.standard_deviation = float(sdp)\n",
    "        self.labeled_class = c\n",
    "\n",
    "\n",
    "class WiltDataset:\n",
    "    \"\"\"\n",
    "            This class stores a list of WiltData.\n",
    "            It also contains a mapping for the attributes that are strings to a number to make them easier to work with\n",
    "            during classification.\n",
    "    \"\"\"\n",
    "    def __init__(self):\n",
    "        self.data = list()\n",
    "        self.classes = {\"w\": 1, \"n\": 2}\n",
    "\n",
    "    def read_in_dataset(self, file_name):\n",
    "        \"\"\"This function reads in the wilt dataset and puts it in the self.data attribute\"\"\"\n",
    "        with open(file_name, \"r\") as file:\n",
    "            for line in file:\n",
    "                line = line.strip()\n",
    "                if line != \"\":\n",
    "                    split = line.split(sep=\",\")\n",
    "                    data_element = WiltData(split[1], split[2], split[3], split[4], split[5], split[0])\n",
    "                    self.data.append(data_element)\n",
    "\n",
    "    def convert_to_numpy_array(self):\n",
    "        np_array_data = np.zeros((4339, 5))\n",
    "        np_array_class = np.zeros((4339, 1))\n",
    "        index = 0\n",
    "        for d in self.data:\n",
    "            np_array_data[index, 0] = d.glcm_pan\n",
    "            np_array_data[index, 1] = d.mean_green\n",
    "            np_array_data[index, 2] = d.mean_red\n",
    "            np_array_data[index, 3] = d.mean_nir\n",
    "            np_array_data[index, 4] = d.standard_deviation\n",
    "            np_array_class[index] = self.classes[d.labeled_class]\n",
    "            index += 1\n",
    "        return np_array_data, np_array_class"
   ]
  },
  {
   "cell_type": "code",
   "execution_count": 2,
   "metadata": {},
   "outputs": [],
   "source": [
    "wds = WiltDataset()\n",
    "wds.read_in_dataset(\"WiltDataSet/training.txt\")\n",
    "data, classes = wds.convert_to_numpy_array()"
   ]
  },
  {
   "cell_type": "code",
   "execution_count": 4,
   "metadata": {},
   "outputs": [
    {
     "data": {
      "text/plain": [
       "(4339, 1)"
      ]
     },
     "execution_count": 4,
     "metadata": {},
     "output_type": "execute_result"
    }
   ],
   "source": [
    "classes.shape"
   ]
  },
  {
   "cell_type": "code",
   "execution_count": null,
   "metadata": {},
   "outputs": [],
   "source": []
  }
 ],
 "metadata": {
  "kernelspec": {
   "display_name": "Python 2",
   "language": "python",
   "name": "python2"
  },
  "language_info": {
   "codemirror_mode": {
    "name": "ipython",
    "version": 2
   },
   "file_extension": ".py",
   "mimetype": "text/x-python",
   "name": "python",
   "nbconvert_exporter": "python",
   "pygments_lexer": "ipython2",
   "version": "2.7.6"
  }
 },
 "nbformat": 4,
 "nbformat_minor": 0
}
